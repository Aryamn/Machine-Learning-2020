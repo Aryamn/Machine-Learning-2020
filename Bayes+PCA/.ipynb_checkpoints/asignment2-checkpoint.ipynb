{
 "cells": [
  {
   "cell_type": "code",
   "execution_count": 26,
   "metadata": {},
   "outputs": [],
   "source": [
    "import pandas as pd\n",
    "import numpy as np\n",
    "import math\n",
    "from sklearn import preprocessing as process\n",
    "from sklearn.model_selection import train_test_split\n",
    "from sklearn.decomposition import PCA\n",
    "import matplotlib.pyplot as plt\n",
    "from sklearn.tree import DecisionTreeClassifier\n",
    "import statistics\n",
    "from sklearn.naive_bayes import GaussianNB"
   ]
  },
  {
   "cell_type": "code",
   "execution_count": 27,
   "metadata": {},
   "outputs": [
    {
     "data": {
      "text/plain": [
       "Hospital_code                           0\n",
       "Hospital_type_code                      0\n",
       "City_Code_Hospital                      0\n",
       "Hospital_region_code                    0\n",
       "Available Extra Rooms in Hospital       0\n",
       "Department                              0\n",
       "Ward_Type                               0\n",
       "Ward_Facility_Code                      0\n",
       "Bed Grade                             113\n",
       "patientid                               0\n",
       "City_Code_Patient                    4532\n",
       "Type of Admission                       0\n",
       "Severity of Illness                     0\n",
       "Visitors with Patient                   0\n",
       "Age                                     0\n",
       "Admission_Deposit                       0\n",
       "Stay                                    0\n",
       "dtype: int64"
      ]
     },
     "execution_count": 27,
     "metadata": {},
     "output_type": "execute_result"
    }
   ],
   "source": [
    "data = pd.read_csv(\"./Train_B.csv\")\n",
    "data = data.drop(['case_id'], axis=1)\n",
    "data.isnull().sum()"
   ]
  },
  {
   "cell_type": "code",
   "execution_count": 28,
   "metadata": {},
   "outputs": [
    {
     "data": {
      "text/plain": [
       "Index(['Hospital_code', 'Hospital_type_code', 'City_Code_Hospital',\n",
       "       'Hospital_region_code', 'Available Extra Rooms in Hospital',\n",
       "       'Department', 'Ward_Type', 'Ward_Facility_Code', 'Bed Grade',\n",
       "       'patientid', 'City_Code_Patient', 'Type of Admission',\n",
       "       'Severity of Illness', 'Visitors with Patient', 'Age',\n",
       "       'Admission_Deposit', 'Stay'],\n",
       "      dtype='object')"
      ]
     },
     "execution_count": 28,
     "metadata": {},
     "output_type": "execute_result"
    }
   ],
   "source": [
    "data.columns"
   ]
  },
  {
   "cell_type": "code",
   "execution_count": 29,
   "metadata": {},
   "outputs": [
    {
     "name": "stdout",
     "output_type": "stream",
     "text": [
      "Hospital_code   32\n",
      "Hospital_type_code   7\n",
      "City_Code_Hospital   11\n",
      "Hospital_region_code   3\n",
      "Available Extra Rooms in Hospital   18\n",
      "Department   5\n",
      "Ward_Type   6\n",
      "Ward_Facility_Code   6\n",
      "Bed Grade   5\n",
      "patientid   92017\n",
      "City_Code_Patient   38\n",
      "Type of Admission   3\n",
      "Severity of Illness   3\n",
      "Visitors with Patient   28\n",
      "Age   10\n",
      "Admission_Deposit   7300\n",
      "Stay   11\n"
     ]
    }
   ],
   "source": [
    "for col in data.columns:\n",
    "    print(col + \"   \" + str(len(data[col].unique())))"
   ]
  },
  {
   "cell_type": "code",
   "execution_count": 30,
   "metadata": {},
   "outputs": [],
   "source": [
    "data['Bed Grade'] = data['Bed Grade'].fillna(data['Bed Grade'].mode()[0])\n",
    "data['City_Code_Patient'] = data['City_Code_Patient'].fillna(data['City_Code_Patient'].mode()[0])"
   ]
  },
  {
   "cell_type": "code",
   "execution_count": 31,
   "metadata": {
    "scrolled": true
   },
   "outputs": [
    {
     "data": {
      "text/html": [
       "<div>\n",
       "<style scoped>\n",
       "    .dataframe tbody tr th:only-of-type {\n",
       "        vertical-align: middle;\n",
       "    }\n",
       "\n",
       "    .dataframe tbody tr th {\n",
       "        vertical-align: top;\n",
       "    }\n",
       "\n",
       "    .dataframe thead th {\n",
       "        text-align: right;\n",
       "    }\n",
       "</style>\n",
       "<table border=\"1\" class=\"dataframe\">\n",
       "  <thead>\n",
       "    <tr style=\"text-align: right;\">\n",
       "      <th></th>\n",
       "      <th>Hospital_code</th>\n",
       "      <th>Hospital_type_code</th>\n",
       "      <th>City_Code_Hospital</th>\n",
       "      <th>Hospital_region_code</th>\n",
       "      <th>Available Extra Rooms in Hospital</th>\n",
       "      <th>Department</th>\n",
       "      <th>Ward_Type</th>\n",
       "      <th>Ward_Facility_Code</th>\n",
       "      <th>Bed Grade</th>\n",
       "      <th>patientid</th>\n",
       "      <th>City_Code_Patient</th>\n",
       "      <th>Type of Admission</th>\n",
       "      <th>Severity of Illness</th>\n",
       "      <th>Visitors with Patient</th>\n",
       "      <th>Age</th>\n",
       "      <th>Admission_Deposit</th>\n",
       "      <th>Stay</th>\n",
       "    </tr>\n",
       "  </thead>\n",
       "  <tbody>\n",
       "    <tr>\n",
       "      <th>0</th>\n",
       "      <td>7</td>\n",
       "      <td>2</td>\n",
       "      <td>2</td>\n",
       "      <td>2</td>\n",
       "      <td>3</td>\n",
       "      <td>3</td>\n",
       "      <td>2</td>\n",
       "      <td>5</td>\n",
       "      <td>1</td>\n",
       "      <td>21972</td>\n",
       "      <td>6</td>\n",
       "      <td>0</td>\n",
       "      <td>0</td>\n",
       "      <td>2</td>\n",
       "      <td>5</td>\n",
       "      <td>2954</td>\n",
       "      <td>0</td>\n",
       "    </tr>\n",
       "    <tr>\n",
       "      <th>1</th>\n",
       "      <td>1</td>\n",
       "      <td>2</td>\n",
       "      <td>4</td>\n",
       "      <td>2</td>\n",
       "      <td>2</td>\n",
       "      <td>3</td>\n",
       "      <td>3</td>\n",
       "      <td>5</td>\n",
       "      <td>1</td>\n",
       "      <td>21972</td>\n",
       "      <td>6</td>\n",
       "      <td>1</td>\n",
       "      <td>0</td>\n",
       "      <td>2</td>\n",
       "      <td>5</td>\n",
       "      <td>3997</td>\n",
       "      <td>4</td>\n",
       "    </tr>\n",
       "    <tr>\n",
       "      <th>2</th>\n",
       "      <td>9</td>\n",
       "      <td>4</td>\n",
       "      <td>0</td>\n",
       "      <td>0</td>\n",
       "      <td>2</td>\n",
       "      <td>1</td>\n",
       "      <td>3</td>\n",
       "      <td>4</td>\n",
       "      <td>1</td>\n",
       "      <td>21972</td>\n",
       "      <td>6</td>\n",
       "      <td>1</td>\n",
       "      <td>0</td>\n",
       "      <td>2</td>\n",
       "      <td>5</td>\n",
       "      <td>2788</td>\n",
       "      <td>3</td>\n",
       "    </tr>\n",
       "    <tr>\n",
       "      <th>3</th>\n",
       "      <td>25</td>\n",
       "      <td>1</td>\n",
       "      <td>1</td>\n",
       "      <td>1</td>\n",
       "      <td>2</td>\n",
       "      <td>3</td>\n",
       "      <td>2</td>\n",
       "      <td>3</td>\n",
       "      <td>1</td>\n",
       "      <td>21972</td>\n",
       "      <td>6</td>\n",
       "      <td>1</td>\n",
       "      <td>0</td>\n",
       "      <td>2</td>\n",
       "      <td>5</td>\n",
       "      <td>5315</td>\n",
       "      <td>4</td>\n",
       "    </tr>\n",
       "    <tr>\n",
       "      <th>4</th>\n",
       "      <td>25</td>\n",
       "      <td>1</td>\n",
       "      <td>1</td>\n",
       "      <td>1</td>\n",
       "      <td>2</td>\n",
       "      <td>3</td>\n",
       "      <td>3</td>\n",
       "      <td>3</td>\n",
       "      <td>1</td>\n",
       "      <td>21972</td>\n",
       "      <td>6</td>\n",
       "      <td>1</td>\n",
       "      <td>0</td>\n",
       "      <td>2</td>\n",
       "      <td>5</td>\n",
       "      <td>3601</td>\n",
       "      <td>4</td>\n",
       "    </tr>\n",
       "  </tbody>\n",
       "</table>\n",
       "</div>"
      ],
      "text/plain": [
       "   Hospital_code  Hospital_type_code  City_Code_Hospital  \\\n",
       "0              7                   2                   2   \n",
       "1              1                   2                   4   \n",
       "2              9                   4                   0   \n",
       "3             25                   1                   1   \n",
       "4             25                   1                   1   \n",
       "\n",
       "   Hospital_region_code  Available Extra Rooms in Hospital  Department  \\\n",
       "0                     2                                  3           3   \n",
       "1                     2                                  2           3   \n",
       "2                     0                                  2           1   \n",
       "3                     1                                  2           3   \n",
       "4                     1                                  2           3   \n",
       "\n",
       "   Ward_Type  Ward_Facility_Code  Bed Grade  patientid  City_Code_Patient  \\\n",
       "0          2                   5          1      21972                  6   \n",
       "1          3                   5          1      21972                  6   \n",
       "2          3                   4          1      21972                  6   \n",
       "3          2                   3          1      21972                  6   \n",
       "4          3                   3          1      21972                  6   \n",
       "\n",
       "   Type of Admission  Severity of Illness  Visitors with Patient  Age  \\\n",
       "0                  0                    0                      2    5   \n",
       "1                  1                    0                      2    5   \n",
       "2                  1                    0                      2    5   \n",
       "3                  1                    0                      2    5   \n",
       "4                  1                    0                      2    5   \n",
       "\n",
       "   Admission_Deposit  Stay  \n",
       "0               2954     0  \n",
       "1               3997     4  \n",
       "2               2788     3  \n",
       "3               5315     4  \n",
       "4               3601     4  "
      ]
     },
     "execution_count": 31,
     "metadata": {},
     "output_type": "execute_result"
    }
   ],
   "source": [
    "decoder_list = {}\n",
    "for x in data.columns:\n",
    "    le = process.LabelEncoder()\n",
    "    data[x] = le.fit_transform(data[x])\n",
    "    decoder_list[x] = le;\n",
    "\n",
    "data.head()"
   ]
  },
  {
   "cell_type": "code",
   "execution_count": 32,
   "metadata": {},
   "outputs": [],
   "source": [
    "Y = data['Stay']\n",
    "X = data.drop(['Stay'],axis=1)"
   ]
  },
  {
   "cell_type": "code",
   "execution_count": 33,
   "metadata": {},
   "outputs": [],
   "source": [
    "X_train,X_test,Y_train,Y_test = train_test_split(X,Y,test_size = 0.2,random_state = 42)\n",
    "X_train = X_train.reset_index(drop=True)\n",
    "Y_train = Y_train.reset_index(drop=True)\n",
    "X_test = X_test.reset_index(drop=True)\n",
    "Y_test = Y_test.reset_index(drop=True)"
   ]
  },
  {
   "cell_type": "code",
   "execution_count": 34,
   "metadata": {},
   "outputs": [],
   "source": [
    "def fit_naive_bayes(X_train,Y_train):\n",
    "    lookup_table = {}\n",
    "    for x in X_train.columns:\n",
    "        rows = X_train[x].max()+1\n",
    "        cols = Y_train.max()+1\n",
    "        lookup_table[x] = [[1 for p in range(cols)] for q in range(rows)]\n",
    "        for i in range(X_train.shape[0]):\n",
    "            lookup_table[x][int(X_train[x][i])][int(Y_train[i])] += 1\n",
    "    return lookup_table"
   ]
  },
  {
   "cell_type": "code",
   "execution_count": 35,
   "metadata": {},
   "outputs": [],
   "source": [
    "def get_y_probablity(Y_train):\n",
    "    probaby = [1 for i in range(Y_train.max()+1)]\n",
    "    for x in Y_train:\n",
    "        probaby[int(x)] += 1 \n",
    "    return probaby\n",
    "    "
   ]
  },
  {
   "cell_type": "code",
   "execution_count": 36,
   "metadata": {},
   "outputs": [],
   "source": [
    "def predict(X_test,Y_train,lookup_table,probaby):\n",
    "    foobar = []\n",
    "    for i in range(X_test.shape[0]):\n",
    "        examp = X_test.iloc[i]\n",
    "        mx = float('-inf')\n",
    "        ans = 100\n",
    "        for classes in range(Y_train.max()+1):\n",
    "            prod = 0\n",
    "            for col in X_test.columns:\n",
    "                temp = 1\n",
    "                if int(examp[col])>=len(lookup_table[col]) or classes>=len(lookup_table[col][int(examp[col])]):\n",
    "                    temp = 1\n",
    "                else:\n",
    "                    temp = lookup_table[col][int(examp[col])][int(classes)]\n",
    "                prod += math.log(temp) \n",
    "\n",
    "            prod += math.log(probaby[int(classes)])\n",
    "\n",
    "            if prod>mx:\n",
    "                mx = prod\n",
    "                ans = classes\n",
    "\n",
    "        foobar.append(ans)\n",
    "    return foobar"
   ]
  },
  {
   "cell_type": "code",
   "execution_count": 37,
   "metadata": {},
   "outputs": [],
   "source": [
    "def get_acc(Y_test,Y_pred):\n",
    "    acc = 0\n",
    "    for i in range (Y_test.shape[0]):\n",
    "        if Y_pred[i]==Y_test[i]:\n",
    "            acc+=1\n",
    "    return acc/len(Y_test)"
   ]
  },
  {
   "cell_type": "code",
   "execution_count": 38,
   "metadata": {},
   "outputs": [],
   "source": [
    "def testing(X_train,Y_train,X_test,Y_test):\n",
    "    lookup = fit_naive_bayes(X_train,Y_train)\n",
    "    probaby = get_y_probablity(Y_train)\n",
    "    y_predict = predict(X_test,Y_train,lookup,probaby)\n",
    "    ans = get_acc(Y_test,y_predict)\n",
    "    return ans"
   ]
  },
  {
   "cell_type": "code",
   "execution_count": 100,
   "metadata": {},
   "outputs": [
    {
     "data": {
      "text/plain": [
       "0.2975756814470544"
      ]
     },
     "execution_count": 100,
     "metadata": {},
     "output_type": "execute_result"
    }
   ],
   "source": [
    "testing(X_train,Y_train,X_test,Y_test)"
   ]
  },
  {
   "cell_type": "code",
   "execution_count": 39,
   "metadata": {},
   "outputs": [],
   "source": [
    "def KFoldCrossValidation(X,Y,k=5):\n",
    "    n = int(X.shape[0]//k)\n",
    "    for i in range(k):\n",
    "        cv_indices = list(range(i*n,min((i+1)*n , X.shape[0])))\n",
    "        X_test1 = X.loc[cv_indices]\n",
    "        Y_test1 = Y.loc[cv_indices]\n",
    "        X_train1 = X.drop(cv_indices)\n",
    "        Y_train1 = Y.drop(cv_indices)\n",
    "        \n",
    "        X_train1 = X_train1.reset_index(drop=True)\n",
    "        Y_train1 = Y_train1.reset_index(drop=True)\n",
    "        X_test1 = X_test1.reset_index(drop=True)\n",
    "        Y_test1 = Y_test1.reset_index(drop=True)\n",
    "        \n",
    "        ans = testing(X_train1,Y_train1,X_test1,Y_test1)\n",
    "        \n",
    "        print(ans)\n",
    "        "
   ]
  },
  {
   "cell_type": "code",
   "execution_count": 194,
   "metadata": {},
   "outputs": [
    {
     "name": "stdout",
     "output_type": "stream",
     "text": [
      "0.29695780176643766\n",
      "0.2929342492639843\n",
      "0.29328753680078506\n",
      "0.29501472031403336\n",
      "0.2911874386653582\n"
     ]
    }
   ],
   "source": [
    "KFoldCrossValidation(X_train,Y_train)"
   ]
  },
  {
   "cell_type": "markdown",
   "metadata": {},
   "source": [
    "# Part Two Starts"
   ]
  },
  {
   "cell_type": "code",
   "execution_count": 14,
   "metadata": {},
   "outputs": [
    {
     "data": {
      "image/png": "[encoded data removed]",
      "text/plain": [
       "<Figure size 432x288 with 1 Axes>"
      ]
     },
     "metadata": {
      "needs_background": "light"
     },
     "output_type": "display_data"
    },
    {
     "data": {
      "image/png": "[encoded data removed]",
      "text/plain": [
       "<Figure size 432x288 with 1 Axes>"
      ]
     },
     "metadata": {
      "needs_background": "light"
     },
     "output_type": "display_data"
    }
   ],
   "source": [
    "pca = PCA(n_components=len(X.columns))\n",
    "pca.fit(X)\n",
    "variances = pca.explained_variance_ratio_\n",
    "total = 0\n",
    "num_of_components = 0\n",
    "while total<0.95:\n",
    "    total += variances[num_of_components]\n",
    "    num_of_components+=1\n",
    "eigen_vectors = pca.components_[0:num_of_components]\n",
    "\n",
    "new_x = np.matmul(X.to_numpy() , np.transpose(eigen_vectors))\n",
    "new_X = {}\n",
    "for i in range(len(new_x[0])):\n",
    "    temp = \"Col\"+str(i)\n",
    "    new_X[temp] = new_x[: , i]\n",
    "    \n",
    "PCA_X = pd.DataFrame(new_X)\n",
    "\n",
    "graph_variances = [0 for i in range(len(variances))]\n",
    "for i in range(len(variances)):\n",
    "    if i>0:\n",
    "        graph_variances[i] = graph_variances[i-1]+variances[i]\n",
    "    else:\n",
    "        graph_variances[i] = variances[i]\n",
    "plt.plot(graph_variances)\n",
    "plt.ylabel(\"Cumulative_Variance_ratio\")\n",
    "plt.xlabel(\"Number_of_features\")\n",
    "plt.show()\n",
    "\n",
    "plt.plot(variances)\n",
    "plt.ylabel(\"Variance_ratio\")\n",
    "plt.xlabel(\"Number_of_features\")\n",
    "plt.show()"
   ]
  },
  {
   "cell_type": "code",
   "execution_count": 15,
   "metadata": {},
   "outputs": [],
   "source": [
    "\n",
    "new_decoder_list = {}\n",
    "for x in PCA_X.columns:\n",
    "    new_le = process.LabelEncoder()\n",
    "    PCA_X[x] = new_le.fit_transform(PCA_X[x])\n",
    "    new_decoder_list[x] = new_le;\n",
    "    \n",
    "PCA_X_train,PCA_X_test,PCA_Y_train,PCA_Y_test = train_test_split(PCA_X,Y,test_size = 0.2,random_state = 42)\n",
    "PCA_X_train = PCA_X_train.reset_index(drop=True)\n",
    "PCA_Y_train = PCA_Y_train.reset_index(drop=True)\n",
    "PCA_X_test = PCA_X_test.reset_index(drop=True)\n",
    "PCA_Y_test = PCA_Y_test.reset_index(drop=True)\n"
   ]
  },
  {
   "cell_type": "code",
   "execution_count": 197,
   "metadata": {},
   "outputs": [
    {
     "name": "stdout",
     "output_type": "stream",
     "text": [
      "0.27636898920510305\n",
      "0.2745829244357213\n",
      "0.2740529931305201\n",
      "0.2746221786064769\n",
      "0.2722080471050049\n"
     ]
    }
   ],
   "source": [
    "KFoldCrossValidation(PCA_X_train,PCA_Y_train)"
   ]
  },
  {
   "cell_type": "code",
   "execution_count": 198,
   "metadata": {},
   "outputs": [
    {
     "data": {
      "text/plain": [
       "0.2764728049240045"
      ]
     },
     "execution_count": 198,
     "metadata": {},
     "output_type": "execute_result"
    }
   ],
   "source": [
    "lookup = fit_naive_bayes(PCA_X_train,PCA_Y_train)\n",
    "probaby = get_y_probablity(PCA_Y_train)\n",
    "y_predict = predict(PCA_X_test,PCA_Y_train,lookup,probaby)\n",
    "get_acc(PCA_Y_test,y_predict)"
   ]
  },
  {
   "cell_type": "markdown",
   "metadata": {},
   "source": [
    "# Part Three Starts"
   ]
  },
  {
   "cell_type": "code",
   "execution_count": 40,
   "metadata": {},
   "outputs": [
    {
     "data": {
      "text/plain": [
       "11"
      ]
     },
     "execution_count": 40,
     "metadata": {},
     "output_type": "execute_result"
    }
   ],
   "source": [
    "feature_mean = {}\n",
    "feature_std = {}\n",
    "del_ele = set()\n",
    "mapping = [0 for i in range(X.shape[0])]\n",
    "\n",
    "for x in X.columns:\n",
    "    feature_mean[x] = X[x].mean()\n",
    "    feature_std[x] = X[x].std()\n",
    "    \n",
    "for i in range(X.shape[0]):\n",
    "    for j in X.columns:\n",
    "        if X[j][i]>feature_mean[j]+3*feature_std[j]:\n",
    "                mapping[i]+=1\n",
    "            \n",
    "mx = max(mapping)\n",
    "for i in range(X.shape[0]):\n",
    "    if mapping[i] == mx:\n",
    "        del_ele.add(i)\n",
    "            \n",
    "X = X.drop(index = del_ele)\n",
    "Y = Y.drop(index = del_ele)\n",
    "X_train,X_test,Y_train,Y_test = train_test_split(X,Y,test_size = 0.2,random_state = 42)\n",
    "X_train = X_train.reset_index(drop=True)\n",
    "Y_train = Y_train.reset_index(drop=True)\n",
    "X_test = X_test.reset_index(drop=True)\n",
    "Y_test = Y_test.reset_index(drop=True)\n",
    "len(del_ele)"
   ]
  },
  {
   "cell_type": "code",
   "execution_count": 41,
   "metadata": {},
   "outputs": [],
   "source": [
    "def check_backward(X_train,Y_train,X_val,Y_val,feature = None):\n",
    "    \n",
    "    X_func_train = X_train\n",
    "    X_func_val = X_val\n",
    "    \n",
    "    if feature!=None:\n",
    "        X_func_train = X_train.drop([feature],axis=1)\n",
    "        X_func_val = X_val.drop([feature],axis=1)\n",
    "    \n",
    "    clf = DecisionTreeClassifier(random_state = 0)\n",
    "    clf.fit(X_func_train,Y_train)\n",
    "    y_pred = clf.predict(X_func_val)\n",
    "    return get_acc(Y_val,y_pred)\n",
    "    "
   ]
  },
  {
   "cell_type": "code",
   "execution_count": 42,
   "metadata": {},
   "outputs": [],
   "source": [
    "X_new_train,X_new_test,Y_new_train,Y_new_test = train_test_split(X_train,Y_train,test_size = 0.2,random_state = 42)\n",
    "X_new_train = X_new_train.reset_index(drop=True)\n",
    "Y_new_train = Y_new_train.reset_index(drop=True)\n",
    "X_new_test = X_new_test.reset_index(drop=True)\n",
    "Y_new_test = Y_new_test.reset_index(drop=True)\n",
    "\n",
    "clf = DecisionTreeClassifier(random_state = 0)\n",
    "clf.fit(X_new_train,Y_new_train)\n",
    "y_pred = clf.predict(X_new_test)\n",
    "full_acc = get_acc(Y_new_test,y_pred)\n",
    "\n",
    "del_feature = []\n",
    "\n",
    "def backward_selection(X_new_train,Y_new_train,X_new_test,Y_new_test,full_acc):\n",
    "    max_acc = 0\n",
    "    max_feature = None\n",
    "    for x in X_new_train.columns:\n",
    "        new_acc = check_backward(X_new_train,Y_new_train,X_new_test,Y_new_test,x)\n",
    "\n",
    "        if new_acc>max_acc:\n",
    "            max_acc = new_acc\n",
    "            max_feature = x\n",
    " \n",
    "    if max_acc>full_acc:\n",
    "        X_new_train = X_new_train.drop([max_feature],axis=1)\n",
    "        X_new_test = X_new_test.drop([max_feature],axis=1)\n",
    "        del_feature.append(max_feature)\n",
    "        full_acc = max_acc\n",
    "        backward_selection(X_new_train,Y_new_train,X_new_test,Y_new_test,full_acc)\n"
   ]
  },
  {
   "cell_type": "code",
   "execution_count": 43,
   "metadata": {},
   "outputs": [
    {
     "data": {
      "text/plain": [
       "Index(['Hospital_code', 'Hospital_type_code', 'City_Code_Hospital',\n",
       "       'Hospital_region_code', 'Ward_Type', 'Ward_Facility_Code', 'Bed Grade',\n",
       "       'Visitors with Patient'],\n",
       "      dtype='object')"
      ]
     },
     "execution_count": 43,
     "metadata": {},
     "output_type": "execute_result"
    }
   ],
   "source": [
    "backward_selection(X_new_train,Y_new_train,X_new_test,Y_new_test,full_acc)\n",
    "X_backward_train = X_train.drop(del_feature,axis=1)\n",
    "X_backward_test = X_test.drop(del_feature,axis=1)\n",
    "\n",
    "X_backward_train.columns"
   ]
  },
  {
   "cell_type": "code",
   "execution_count": 44,
   "metadata": {},
   "outputs": [
    {
     "data": {
      "text/plain": [
       "0.2932669660521936"
      ]
     },
     "execution_count": 44,
     "metadata": {},
     "output_type": "execute_result"
    }
   ],
   "source": [
    "lookup = fit_naive_bayes(X_backward_train,Y_train)\n",
    "probaby = get_y_probablity(Y_train)\n",
    "y_predict = predict(X_backward_test,Y_train,lookup,probaby)\n",
    "get_acc(Y_test,y_predict)"
   ]
  },
  {
   "cell_type": "code",
   "execution_count": 45,
   "metadata": {},
   "outputs": [
    {
     "name": "stdout",
     "output_type": "stream",
     "text": [
      "0.29404490853419174\n",
      "0.2941823035251629\n",
      "0.2893145952736123\n",
      "0.2932205385883646\n",
      "0.2912381251472089\n"
     ]
    }
   ],
   "source": [
    "KFoldCrossValidation(X_backward_train,Y_train)"
   ]
  }
 ],
 "metadata": {
  "kernelspec": {
   "display_name": "Python 3",
   "language": "python",
   "name": "python3"
  },
  "language_info": {
   "codemirror_mode": {
    "name": "ipython",
    "version": 3
   },
   "file_extension": ".py",
   "mimetype": "text/x-python",
   "name": "python",
   "nbconvert_exporter": "python",
   "pygments_lexer": "ipython3",
   "version": "3.8.3"
  }
 },
 "nbformat": 4,
 "nbformat_minor": 4
}
