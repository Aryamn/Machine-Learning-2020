{
 "cells": [
  {
   "cell_type": "code",
   "execution_count": 84,
   "metadata": {},
   "outputs": [],
   "source": [
    "import pandas as pd\n",
    "import numpy as np\n",
    "import matplotlib.pyplot as plt\n",
    "import random\n",
    "from graphviz import Digraph\n",
    "from graphviz import Source"
   ]
  },
  {
   "cell_type": "code",
   "execution_count": 85,
   "metadata": {},
   "outputs": [
    {
     "name": "stderr",
     "output_type": "stream",
     "text": [
      "<ipython-input-85-2b5163a223d8>:5: SettingWithCopyWarning: \n",
      "A value is trying to be set on a copy of a slice from a DataFrame\n",
      "\n",
      "See the caveats in the documentation: https://pandas.pydata.org/pandas-docs/stable/user_guide/indexing.html#returning-a-view-versus-a-copy\n",
      "  data['Date'][i] = i\n"
     ]
    }
   ],
   "source": [
    "data = pd.read_csv(\"PercentageIncreaseCOVIDWorldwide.csv\")\n",
    "data = data.drop(0,0)\n",
    "data = data.reset_index(drop = True)\n",
    "for i in range(0,len(data)):\n",
    "    data['Date'][i] = i"
   ]
  },
  {
   "cell_type": "code",
   "execution_count": 86,
   "metadata": {},
   "outputs": [],
   "source": [
    "def train_test_split(df, test_size):\n",
    "    \n",
    "    if isinstance(test_size, float):\n",
    "        test_size = round(test_size * len(df))\n",
    "\n",
    "    indices = df.index.tolist()\n",
    "    test_indices = random.sample(population=indices, k=test_size)\n",
    "\n",
    "    test_df = df.loc[test_indices]\n",
    "    train_df = df.drop(test_indices)\n",
    "    \n",
    "    return train_df, test_df"
   ]
  },
  {
   "cell_type": "code",
   "execution_count": 87,
   "metadata": {},
   "outputs": [],
   "source": [
    "def train_val_test(df,test_size):\n",
    "    temp,test = train_test_split(df, test_size)\n",
    "    train,val = train_test_split(temp, test_size)\n",
    "    \n",
    "    train = train.reset_index(drop=True)\n",
    "    test = test.reset_index(drop=True)\n",
    "    val = val.reset_index(drop=True)\n",
    "    return train,val,test"
   ]
  },
  {
   "cell_type": "code",
   "execution_count": 88,
   "metadata": {},
   "outputs": [],
   "source": [
    "def find_rmse(y_pred,y_test):\n",
    "    return np.sqrt((np.subtract(y_pred, y_test) ** 2).sum()/len(y_test))\n",
    "\n",
    "def find_r2(y_pred,y_test):\n",
    "    num = 0\n",
    "    deno = 0\n",
    "    for i in range (0,len(y_pred)):\n",
    "        num = num + (y_pred[i]-y_test[i])**2\n",
    "        deno = deno + (y_test[i]-y_test.mean())**2\n",
    "    \n",
    "    return 1-(num/deno)"
   ]
  },
  {
   "cell_type": "code",
   "execution_count": 89,
   "metadata": {},
   "outputs": [],
   "source": [
    "def check_purity(data):\n",
    "    \n",
    "    label_column = data[:, -1]\n",
    "    unique_classes = np.unique(label_column)\n",
    "\n",
    "    if len(unique_classes) == 1:\n",
    "        return True\n",
    "    else:\n",
    "        return False\n",
    "\n",
    "    \n",
    "def create_leaf(data):\n",
    "    \n",
    "    label_column = data[:, -1]\n",
    "    leaf = np.mean(label_column)\n",
    "    \n",
    "    return leaf\n",
    "\n",
    "\n",
    "def get_potential_splits(data):\n",
    "    \n",
    "    potential_splits = {}\n",
    "    _, n_columns = data.shape\n",
    "    for column_index in range(n_columns - 1):\n",
    "        values = data[:, column_index]\n",
    "        unique_values = np.unique(values)\n",
    "        \n",
    "        potential_splits[column_index] = unique_values\n",
    "    \n",
    "    return potential_splits\n",
    "\n",
    "def calculate_var(data):\n",
    "    actual_values = data[:, -1]\n",
    "    if len(actual_values) == 0:   \n",
    "        prediction = 0\n",
    "        \n",
    "    else:\n",
    "        prediction = np.var(actual_values)\n",
    "    \n",
    "    return prediction\n",
    "\n",
    "\n",
    "def calculate_overall_metric(data,data_below, data_above, metric_function):\n",
    "    \n",
    "    n = len(data_below) + len(data_above)\n",
    "    p_data_below = len(data_below) / n\n",
    "    p_data_above = len(data_above) / n\n",
    "        \n",
    "    overall_metric =  (p_data_below * metric_function(data_below) \n",
    "                     + p_data_above * metric_function(data_above))\n",
    "    \n",
    "    overall_metric = metric_function(data)-overall_metric\n",
    "    \n",
    "    return overall_metric\n",
    "\n",
    "\n",
    "def determine_best_split(data, potential_splits):\n",
    "    \n",
    "    first_iteration = True\n",
    "    for column_index in potential_splits:\n",
    "        for value in potential_splits[column_index]:\n",
    "            data_below, data_above = split_data(data, split_column=column_index, split_value=value)\n",
    "            \n",
    "            current_overall_metric = calculate_overall_metric(data,data_below, data_above, metric_function=calculate_var)\n",
    "            \n",
    "            if first_iteration or current_overall_metric >= best_overall_metric:\n",
    "                first_iteration = False\n",
    "                \n",
    "                best_overall_metric = current_overall_metric\n",
    "                best_split_column = column_index\n",
    "                best_split_value = value\n",
    "    \n",
    "    return best_split_column, best_split_value\n",
    "\n",
    "\n",
    "def split_data(data, split_column, split_value):\n",
    "    \n",
    "    split_column_values = data[:, split_column]\n",
    "\n",
    "    type_of_feature = FEATURE_TYPES[split_column]\n",
    "    if type_of_feature == \"c\":\n",
    "        data_below = data[split_column_values <= split_value]\n",
    "        data_above = data[split_column_values >  split_value]\n",
    "    \n",
    "       \n",
    "    else:\n",
    "        data_below = data[split_column_values == split_value]\n",
    "        data_above = data[split_column_values != split_value]\n",
    "    \n",
    "    return data_below, data_above\n",
    "\n",
    "\n",
    "def determine_type_of_feature(df):\n",
    "    \n",
    "    feature_types = []\n",
    "    n_unique_values_treshold = 15\n",
    "    for feature in df.columns:\n",
    "        if feature != \"label\":\n",
    "            unique_values = df[feature].unique()\n",
    "            example_value = unique_values[0]\n",
    "            feature_types.append(\"c\")\n",
    "    \n",
    "    return feature_types\n",
    "\n",
    "\n",
    "def decision_tree_algorithm(df, counter=0, min_samples=2, max_depth=5,):\n",
    "    \n",
    "    if counter == 0:\n",
    "        global COLUMN_HEADERS, FEATURE_TYPES\n",
    "        COLUMN_HEADERS = df.columns\n",
    "        FEATURE_TYPES = determine_type_of_feature(df)\n",
    "        data = df.values\n",
    "    else:\n",
    "        data = df           \n",
    "    \n",
    "    \n",
    "    if (check_purity(data)) or (len(data) < min_samples) or (counter == max_depth):\n",
    "        leaf = create_leaf(data)\n",
    "        return leaf\n",
    "\n",
    "    \n",
    "    else:    \n",
    "        counter += 1\n",
    "\n",
    "        potential_splits = get_potential_splits(data)\n",
    "        split_column, split_value = determine_best_split(data, potential_splits)\n",
    "        data_below, data_above = split_data(data, split_column, split_value)\n",
    "        \n",
    "        if len(data_below) == 0 or len(data_above) == 0:\n",
    "            leaf = create_leaf(data)\n",
    "            return leaf\n",
    "        \n",
    "        feature_name = COLUMN_HEADERS[split_column]\n",
    "        type_of_feature = FEATURE_TYPES[split_column]\n",
    "        if type_of_feature == \"c\":\n",
    "            question = \"{} <= {}\".format(feature_name, split_value)\n",
    "        \n",
    "        sub_tree = {question: []}\n",
    "        \n",
    "        yes_answer = decision_tree_algorithm(data_below, counter, min_samples, max_depth)\n",
    "        no_answer = decision_tree_algorithm(data_above, counter, min_samples, max_depth)\n",
    "        \n",
    "        \n",
    "        if yes_answer == no_answer:\n",
    "            sub_tree = yes_answer\n",
    "        else:\n",
    "            sub_tree[question].append(yes_answer)\n",
    "            sub_tree[question].append(no_answer)\n",
    "                \n",
    "        return sub_tree\n",
    "\n",
    "\n",
    "def predict_example(example, tree):\n",
    "    \n",
    "    if not isinstance(tree, dict):\n",
    "        return tree\n",
    "    \n",
    "    question = list(tree.keys())[0]\n",
    "    feature_name, comparison_operator, value = question.split(\" \")\n",
    "\n",
    "    if comparison_operator == \"<=\":\n",
    "        if example[feature_name] <= float(value):\n",
    "            answer = tree[question][0]\n",
    "        else:\n",
    "            answer = tree[question][1]\n",
    "\n",
    "\n",
    "    if not isinstance(answer, dict):\n",
    "        return answer\n",
    "    \n",
    "    else:\n",
    "        residual_tree = answer\n",
    "        return predict_example(example, residual_tree)\n",
    "\n",
    "    \n",
    "def make_predictions(df, tree):\n",
    "    \n",
    "    if len(df) != 0:\n",
    "        predictions = df.apply(predict_example, args=(tree,), axis=1)\n",
    "    else:\n",
    "       \n",
    "        predictions = 0\n",
    "        \n",
    "    return predictions\n",
    "\n",
    "\n",
    "def calculate_accuracy(df, tree):\n",
    "    predictions = make_predictions(df, tree)\n",
    "    predictions_correct = predictions == df.label\n",
    "    accuracy = predictions_correct.mean()\n",
    "    \n",
    "    return accuracy"
   ]
  },
  {
   "cell_type": "code",
   "execution_count": 90,
   "metadata": {},
   "outputs": [],
   "source": [
    "def filter_df(df, question):\n",
    "    feature, comparison_operator, value = question.split()\n",
    "    \n",
    "    if comparison_operator == \"<=\":\n",
    "        df_yes = df[df[feature] <= float(value)]\n",
    "        df_no =  df[df[feature] >  float(value)]\n",
    "        \n",
    "    return df_yes, df_no\n",
    "\n",
    "def determine_leaf(df_train):\n",
    "    return df_train['Increase rate'].mean()\n",
    "\n",
    "def determine_errors(df_val, tree):\n",
    "    predictions = make_predictions(df_val, tree)\n",
    "    actual_values = df_val['Increase rate']\n",
    "    \n",
    "    return ((predictions - actual_values) **2).mean()\n",
    "\n",
    "def pruning_result(tree, df_train, df_val):\n",
    "    \n",
    "    leaf = determine_leaf(df_train)\n",
    "    errors_leaf = determine_errors(df_val, leaf)\n",
    "    errors_decision_node = determine_errors(df_val, tree)\n",
    "\n",
    "    if errors_leaf <= errors_decision_node:\n",
    "        return leaf\n",
    "    else:\n",
    "        return tree\n",
    "\n",
    "def post_pruning(tree, df_train, df_val):\n",
    "    \n",
    "    question = list(tree.keys())[0]\n",
    "    yes_answer, no_answer = tree[question]\n",
    "\n",
    "    if not isinstance(yes_answer, dict) and not isinstance(no_answer, dict):\n",
    "        return pruning_result(tree, df_train, df_val)\n",
    "        \n",
    "    else:\n",
    "        df_train_yes, df_train_no = filter_df(df_train, question)\n",
    "        df_val_yes, df_val_no = filter_df(df_val, question)\n",
    "        \n",
    "        if isinstance(yes_answer, dict):\n",
    "            yes_answer = post_pruning(yes_answer, df_train_yes, df_val_yes)\n",
    "            \n",
    "        if isinstance(no_answer, dict):\n",
    "            no_answer = post_pruning(no_answer, df_train_no, df_val_no)\n",
    "        \n",
    "        tree = {question: [yes_answer, no_answer]}\n",
    "    \n",
    "        return pruning_result(tree, df_train, df_val)"
   ]
  },
  {
   "cell_type": "code",
   "execution_count": 91,
   "metadata": {},
   "outputs": [],
   "source": [
    "def find_depth(tree):\n",
    "    if not isinstance(tree,dict):\n",
    "        return 0\n",
    "    \n",
    "    question = list(tree.keys())[0]\n",
    "    left,right = tree[question]\n",
    "    \n",
    "    ldepth = find_depth(left)\n",
    "    rdepth = find_depth(right)\n",
    "    \n",
    "    if ldepth>rdepth:\n",
    "        return ldepth+1\n",
    "    else:\n",
    "        return rdepth+1"
   ]
  },
  {
   "cell_type": "code",
   "execution_count": 92,
   "metadata": {},
   "outputs": [],
   "source": [
    "\n",
    "def part1(data):\n",
    "    inp = int(input(\"Enter Depth \"))\n",
    "    max_acc=float('-inf')\n",
    "    avg=0\n",
    "    for i in range(0,10):\n",
    "        random.seed(i+9)\n",
    "        df_train,df_val,df_test = train_val_test(data, 0.2)\n",
    "        tree = decision_tree_algorithm(df_train,max_depth=inp)\n",
    "        y_pred = make_predictions(df_test,tree)\n",
    "        y_test = df_test['Increase rate']\n",
    "        acc = find_r2(y_pred,y_test)\n",
    "        avg = avg+acc\n",
    "        if max_acc<acc:\n",
    "            max_acc = acc\n",
    "            best_train_data = df_train\n",
    "            best_test_data = df_test\n",
    "            best_valid_data = df_val\n",
    "\n",
    "    print(avg/10)\n",
    "    print(max_acc)\n",
    "    \n",
    "    return inp , best_train_data,best_valid_data,best_test_data\n",
    "        "
   ]
  },
  {
   "cell_type": "code",
   "execution_count": 93,
   "metadata": {},
   "outputs": [
    {
     "name": "stdout",
     "output_type": "stream",
     "text": [
      "Enter Depth 10\n",
      "0.5426520229681893\n",
      "0.9440645057284467\n"
     ]
    }
   ],
   "source": [
    "inp , best_train,best_val,best_test = part1(data)\n"
   ]
  },
  {
   "cell_type": "code",
   "execution_count": 94,
   "metadata": {},
   "outputs": [],
   "source": [
    "def part2(best_train,best_val,best_test):\n",
    "    train_predictions = []\n",
    "    test_predictions = []\n",
    "    x_axis = []\n",
    "    best_test_acc = float('-inf')\n",
    "    best_height = 0\n",
    "    for i in range(1,10):\n",
    "        x_axis.append(i*2)\n",
    "        trees = decision_tree_algorithm(best_train, max_depth=i*2)\n",
    "        y_predictions =  make_predictions(best_test,trees)\n",
    "        y_train_predictions = make_predictions(best_train,trees)\n",
    "        train_predictions.append(find_r2(y_train_predictions,best_train['Increase rate']))\n",
    "        test_predictions.append(find_r2(y_predictions,best_test['Increase rate']))\n",
    "        if find_r2(y_predictions,best_test['Increase rate'])>best_test_acc:\n",
    "            best_test_acc = find_r2(y_predictions,best_test['Increase rate'])\n",
    "            best_height = i*2\n",
    "        \n",
    "    return x_axis,train_predictions,test_predictions,best_height"
   ]
  },
  {
   "cell_type": "code",
   "execution_count": 95,
   "metadata": {},
   "outputs": [],
   "source": [
    "x_axis,train_acc,test_acc,best_height = part2(best_train,best_val,best_test)"
   ]
  },
  {
   "cell_type": "code",
   "execution_count": 96,
   "metadata": {},
   "outputs": [
    {
     "data": {
      "image/png": "[encoded data removed]",
      "text/plain": [
       "<Figure size 432x288 with 1 Axes>"
      ]
     },
     "metadata": {
      "needs_background": "light"
     },
     "output_type": "display_data"
    },
    {
     "name": "stdout",
     "output_type": "stream",
     "text": [
      "Optimal height obtained is :\n",
      "8\n"
     ]
    }
   ],
   "source": [
    "plt.plot(x_axis,train_acc,'r')\n",
    "plt.plot(x_axis,test_acc,'b')\n",
    "plt.show()\n",
    "print(\"Optimal height obtained is :\")\n",
    "print(best_height)"
   ]
  },
  {
   "cell_type": "code",
   "execution_count": 97,
   "metadata": {},
   "outputs": [
    {
     "data": {
      "text/plain": [
       "0.9457466937998278"
      ]
     },
     "execution_count": 97,
     "metadata": {},
     "output_type": "execute_result"
    }
   ],
   "source": [
    "best_tree =  decision_tree_algorithm(best_train, max_depth=best_height)\n",
    "y_best_pred =  make_predictions(best_test,best_tree)\n",
    "find_r2(y_best_pred,best_test['Increase rate'])"
   ]
  },
  {
   "cell_type": "code",
   "execution_count": 98,
   "metadata": {},
   "outputs": [
    {
     "data": {
      "text/plain": [
       "0.9429467211037178"
      ]
     },
     "execution_count": 98,
     "metadata": {},
     "output_type": "execute_result"
    }
   ],
   "source": [
    "best_pruned_tree = post_pruning(best_tree,best_train,best_val)\n",
    "y_prune = make_predictions(best_test,best_pruned_tree)\n",
    "find_r2(y_prune,best_test['Increase rate'])"
   ]
  },
  {
   "cell_type": "code",
   "execution_count": 99,
   "metadata": {},
   "outputs": [
    {
     "name": "stdout",
     "output_type": "stream",
     "text": [
      "Depth of the tree is : \n",
      "8\n"
     ]
    }
   ],
   "source": [
    "print(\"Depth of the tree is : \")\n",
    "print(find_depth(best_pruned_tree))\n"
   ]
  },
  {
   "cell_type": "code",
   "execution_count": 100,
   "metadata": {},
   "outputs": [],
   "source": [
    "grp = Digraph()\n",
    "\n",
    "def store_tree(tree,idx=0):\n",
    "    \n",
    "    question = list(tree.keys())[0]\n",
    "    if idx==0:\n",
    "        grp.node(str(idx),question)\n",
    "        \n",
    "    left,right = tree[question]\n",
    "    \n",
    "    if not isinstance(left,dict):\n",
    "        grp.node(str(2*idx+1),str(left))\n",
    "        grp.edge(str(idx),str(2*idx+1),\"True\")\n",
    "        \n",
    "        \n",
    "    else:\n",
    "        lft_attr = list(left.keys())[0]\n",
    "        grp.node(str(2*idx+1),lft_attr)\n",
    "        grp.edge(str(idx),str(2*idx+1),\"True\")\n",
    "        store_tree(left,2*idx+1)\n",
    "        \n",
    "    if not isinstance(right,dict):\n",
    "        grp.node(str(2*idx+2),str(right))\n",
    "        grp.edge(str(idx),str(2*idx+2),\"False\")\n",
    "        \n",
    "    else:\n",
    "        rgt_attr = list(right.keys())[0]\n",
    "        grp.node(str(2*idx+2),rgt_attr)\n",
    "        grp.edge(str(idx),str(2*idx+2),\"False\")\n",
    "        store_tree(right,2*idx+2)"
   ]
  },
  {
   "cell_type": "code",
   "execution_count": 101,
   "metadata": {},
   "outputs": [
    {
     "data": {
      "text/plain": [
       "'Digraph.gv.pdf'"
      ]
     },
     "execution_count": 101,
     "metadata": {},
     "output_type": "execute_result"
    }
   ],
   "source": [
    "store_tree(best_tree)\n",
    "grp.view()"
   ]
  },
  {
   "cell_type": "code",
   "execution_count": null,
   "metadata": {},
   "outputs": [],
   "source": []
  },
  {
   "cell_type": "code",
   "execution_count": null,
   "metadata": {},
   "outputs": [],
   "source": []
  }
 ],
 "metadata": {
  "kernelspec": {
   "display_name": "Python 3",
   "language": "python",
   "name": "python3"
  },
  "language_info": {
   "codemirror_mode": {
    "name": "ipython",
    "version": 3
   },
   "file_extension": ".py",
   "mimetype": "text/x-python",
   "name": "python",
   "nbconvert_exporter": "python",
   "pygments_lexer": "ipython3",
   "version": "3.8.3"
  }
 },
 "nbformat": 4,
 "nbformat_minor": 4
}
